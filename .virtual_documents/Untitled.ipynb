import sys
print(sys.executable)        # should point to .venv/bin/python
import pandas as pd, yfinance as yf
print("pandas", pd.__version__, "yfinance", yf.__version__)




