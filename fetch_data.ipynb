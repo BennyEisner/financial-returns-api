{
 "cells": [
  {
   "cell_type": "code",
   "execution_count": 2,
   "id": "d1db4021-941b-4fa7-9876-c8956eae4fcc",
   "metadata": {},
   "outputs": [
    {
     "name": "stdout",
     "output_type": "stream",
     "text": [
      "/Users/beneisner/financial-returns-api/.venv/bin/python3.11\n",
      "pandas 2.3.0 yfinance 0.2.63\n"
     ]
    }
   ],
   "source": [
    "import sys\n",
    "print(sys.executable)     \n",
    "import pandas as pd, yfinance as yf\n",
    "print(\"pandas\", pd.__version__, \"yfinance\", yf.__version__)"
   ]
  },
  {
   "cell_type": "code",
   "execution_count": 6,
   "id": "3a56d6b8-bafe-4fef-bba0-37c5705d9f59",
   "metadata": {},
   "outputs": [
    {
     "name": "stdout",
     "output_type": "stream",
     "text": [
      "                                 Open        High         Low       Close  \\\n",
      "Date                                                                        \n",
      "2025-06-12 00:00:00-04:00  199.080002  199.679993  197.360001  199.199997   \n",
      "2025-06-13 00:00:00-04:00  199.729996  200.369995  195.699997  196.449997   \n",
      "2025-06-16 00:00:00-04:00  197.300003  198.690002  196.559998  198.419998   \n",
      "2025-06-17 00:00:00-04:00  197.199997  198.389999  195.210007  195.639999   \n",
      "2025-06-18 00:00:00-04:00  195.940002  197.570007  195.070007  196.580002   \n",
      "\n",
      "                             Volume  Dividends  Stock Splits  \n",
      "Date                                                          \n",
      "2025-06-12 00:00:00-04:00  43904600        0.0           0.0  \n",
      "2025-06-13 00:00:00-04:00  51447300        0.0           0.0  \n",
      "2025-06-16 00:00:00-04:00  43020700        0.0           0.0  \n",
      "2025-06-17 00:00:00-04:00  38856200        0.0           0.0  \n",
      "2025-06-18 00:00:00-04:00  45350400        0.0           0.0  \n"
     ]
    }
   ],
   "source": [
    "def get_price_data(ticker: str):\n",
    "    stock = yf.Ticker(ticker) \n",
    "    df = stock.history(period=\"5d\")\n",
    "    return df\n",
    "\n",
    "if __name__ == \"__main__\":\n",
    "    sample = get_price_data(\"AAPL\")\n",
    "    print(sample)"
   ]
  },
  {
   "cell_type": "code",
   "execution_count": null,
   "id": "557b0e27-0ac3-4018-b467-97f8d497b60f",
   "metadata": {},
   "outputs": [],
   "source": []
  }
 ],
 "metadata": {
  "kernelspec": {
   "display_name": "Python 3 (ipykernel)",
   "language": "python",
   "name": "python3"
  },
  "language_info": {
   "codemirror_mode": {
    "name": "ipython",
    "version": 3
   },
   "file_extension": ".py",
   "mimetype": "text/x-python",
   "name": "python",
   "nbconvert_exporter": "python",
   "pygments_lexer": "ipython3",
   "version": "3.11.1"
  }
 },
 "nbformat": 4,
 "nbformat_minor": 5
}
