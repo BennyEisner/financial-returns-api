{
 "cells": [
  {
   "cell_type": "code",
   "execution_count": 2,
   "id": "d1db4021-941b-4fa7-9876-c8956eae4fcc",
   "metadata": {},
   "outputs": [
    {
     "name": "stdout",
     "output_type": "stream",
     "text": [
      "/Users/beneisner/financial-returns-api/.venv/bin/python3.11\n",
      "pandas 2.3.0 yfinance 0.2.63\n"
     ]
    }
   ],
   "source": [
    "import sys\n",
    "print(sys.executable)     \n",
    "import pandas as pd, yfinance as yf\n",
    "print(\"pandas\", pd.__version__, \"yfinance\", yf.__version__)"
   ]
  },
  {
   "cell_type": "code",
   "execution_count": null,
   "id": "3a56d6b8-bafe-4fef-bba0-37c5705d9f59",
   "metadata": {},
   "outputs": [],
   "source": []
  }
 ],
 "metadata": {
  "kernelspec": {
   "display_name": "Python 3 (ipykernel)",
   "language": "python",
   "name": "python3"
  },
  "language_info": {
   "codemirror_mode": {
    "name": "ipython",
    "version": 3
   },
   "file_extension": ".py",
   "mimetype": "text/x-python",
   "name": "python",
   "nbconvert_exporter": "python",
   "pygments_lexer": "ipython3",
   "version": "3.11.1"
  }
 },
 "nbformat": 4,
 "nbformat_minor": 5
}
